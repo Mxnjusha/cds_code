{
 "cells": [
  {
   "cell_type": "markdown",
   "metadata": {},
   "source": [
    "Algorithm\n",
    "1. The process begins.\n",
    "2. Input the list and the value `n`: This represents the list of numbers and the number to search for.\n",
    "3. The function `search(list, n)` is invoked.\n",
    "4. Loop starts from `i = 0` to `i = len(list) - 1`.\n",
    "   - Condition (Inside Loop): `list[i] == n`\n",
    "     - If `True`: The function returns `i`, which is the index where `n` is found in the list.\n",
    "     - If `False`: Continue to the next iteration.\n",
    "5. If the loop completes and no match is found, the function returns `-1`.\n",
    "6. Check if `search(list, n) != -1`.\n",
    "   - True (Found): Print `\"Found at \"` followed by the index.\n",
    "   - False (Not Found): Print `\"Not Found\"`.\n",
    "7. The process terminates.\n"
   ]
  },
  {
   "cell_type": "code",
   "execution_count": null,
   "metadata": {},
   "outputs": [],
   "source": [
    "def search(list, n):\n",
    "    for i in range(len(list)):\n",
    "        if list[i] == n:\n",
    "            return i\n",
    "    else:\n",
    "        return -1\n",
    " \n",
    "list = [11,13,43,67,28,10,54]\n",
    "n = 10\n",
    "\n",
    "if search(list, n)!= -1:\n",
    "    print(\"Found at \",search(list,n))\n",
    "else:\n",
    "    print(\"Not Found\")"
   ]
  }
 ],
 "metadata": {
  "kernelspec": {
   "display_name": "base",
   "language": "python",
   "name": "python3"
  },
  "language_info": {
   "name": "python",
   "version": "3.12.4"
  }
 },
 "nbformat": 4,
 "nbformat_minor": 2
}
