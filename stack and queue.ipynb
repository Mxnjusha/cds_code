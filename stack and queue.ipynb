{
 "cells": [
  {
   "cell_type": "markdown",
   "metadata": {},
   "source": [
    "Stack "
   ]
  },
  {
   "cell_type": "code",
   "execution_count": 3,
   "metadata": {},
   "outputs": [
    {
     "name": "stdout",
     "output_type": "stream",
     "text": [
      "Pushed 10 to stack\n",
      "Pushed 20 to stack\n",
      "Pushed 30 to stack\n",
      "Top of stack: 30\n",
      "Size of stack: 3\n",
      "Popped 30 from stack\n",
      "Size of stack after pop: 2\n"
     ]
    }
   ],
   "source": [
    "class Stack:\n",
    "    def __init__(self):\n",
    "        self.stack = []\n",
    "\n",
    "    def push(self, item):\n",
    "        self.stack.append(item)\n",
    "        print(f\"Pushed {item} to stack\")\n",
    "\n",
    "    def pop(self):\n",
    "        if not self.is_empty():\n",
    "            item = self.stack.pop()\n",
    "            print(f\"Popped {item} from stack\")\n",
    "            return item\n",
    "        else:\n",
    "            raise IndexError(\"Pop from an empty stack\")\n",
    "\n",
    "    def peek(self):\n",
    "        if not self.is_empty():\n",
    "            return self.stack[-1]\n",
    "        else:\n",
    "            raise IndexError(\"Peek from an empty stack\")\n",
    "\n",
    "    def is_empty(self):\n",
    "        return len(self.stack) == 0\n",
    "\n",
    "    def size(self):\n",
    "        return len(self.stack)\n",
    "\n",
    "# Example Usage of Stack\n",
    "stack = Stack()\n",
    "stack.push(10)\n",
    "stack.push(20)\n",
    "stack.push(30)\n",
    "print(f\"Top of stack: {stack.peek()}\")\n",
    "print(f\"Size of stack: {stack.size()}\")\n",
    "stack.pop()\n",
    "print(f\"Size of stack after pop: {stack.size()}\")"
   ]
  },
  {
   "cell_type": "markdown",
   "metadata": {},
   "source": [
    "Queue"
   ]
  },
  {
   "cell_type": "code",
   "execution_count": 4,
   "metadata": {},
   "outputs": [
    {
     "name": "stdout",
     "output_type": "stream",
     "text": [
      "Enqueued 100 to queue\n",
      "Enqueued 200 to queue\n",
      "Enqueued 300 to queue\n",
      "Front of queue: 100\n",
      "Size of queue: 3\n",
      "Dequeued 100 from queue\n",
      "Size of queue after dequeue: 2\n"
     ]
    }
   ],
   "source": [
    "class Queue:\n",
    "    def __init__(self):\n",
    "        self.queue = []\n",
    "\n",
    "    def enqueue(self, item):\n",
    "        self.queue.append(item)\n",
    "        print(f\"Enqueued {item} to queue\")\n",
    "\n",
    "    def dequeue(self):\n",
    "        if not self.is_empty():\n",
    "            item = self.queue.pop(0)\n",
    "            print(f\"Dequeued {item} from queue\")\n",
    "            return item\n",
    "        else:\n",
    "            raise IndexError(\"Dequeue from an empty queue\")\n",
    "\n",
    "    def peek(self):\n",
    "        if not self.is_empty():\n",
    "            return self.queue[0]\n",
    "        else:\n",
    "            raise IndexError(\"Peek from an empty queue\")\n",
    "\n",
    "    def is_empty(self):\n",
    "        return len(self.queue) == 0\n",
    "\n",
    "    def size(self):\n",
    "        return len(self.queue)\n",
    "\n",
    "# Example Usage of Queue\n",
    "queue = Queue()\n",
    "queue.enqueue(100)\n",
    "queue.enqueue(200)\n",
    "queue.enqueue(300)\n",
    "print(f\"Front of queue: {queue.peek()}\")\n",
    "print(f\"Size of queue: {queue.size()}\")\n",
    "queue.dequeue()\n",
    "print(f\"Size of queue after dequeue: {queue.size()}\")"
   ]
  }
 ],
 "metadata": {
  "kernelspec": {
   "display_name": "base",
   "language": "python",
   "name": "python3"
  },
  "language_info": {
   "codemirror_mode": {
    "name": "ipython",
    "version": 3
   },
   "file_extension": ".py",
   "mimetype": "text/x-python",
   "name": "python",
   "nbconvert_exporter": "python",
   "pygments_lexer": "ipython3",
   "version": "3.12.4"
  }
 },
 "nbformat": 4,
 "nbformat_minor": 2
}
